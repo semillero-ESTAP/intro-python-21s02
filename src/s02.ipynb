{
 "cells": [
  {
   "cell_type": "markdown",
   "metadata": {},
   "source": [
    "# Sesión 2"
   ]
  },
  {
   "cell_type": "markdown",
   "metadata": {},
   "source": [
    "Cotenido\n",
    "\n",
    "* Condicionales, bucles y funciones \n",
    "* Librerias para ciencias de datos \n",
    "* Introduccion a numpy \n"
   ]
  },
  {
   "cell_type": "markdown",
   "metadata": {},
   "source": [
    "# Operadores de comparación\n",
    "\n",
    "|Operador | Descripción|\n",
    "|---------|------------|\n",
    "| ==      | Igualdad   |\n",
    "| !=      | No Igualdad |  \n",
    "| >      | Mayor que|\n",
    "| <      | Menor que |\n",
    "| >=      | Mayor o igual que|\n",
    "| <=      | Menor o igual que |\n"
   ]
  },
  {
   "cell_type": "code",
   "execution_count": null,
   "metadata": {},
   "outputs": [],
   "source": [
    "\"palabra\" == 'Palabra'"
   ]
  },
  {
   "cell_type": "code",
   "execution_count": null,
   "metadata": {},
   "outputs": [],
   "source": [
    "23 == 23"
   ]
  },
  {
   "cell_type": "code",
   "execution_count": null,
   "metadata": {},
   "outputs": [],
   "source": [
    "0 != '0'"
   ]
  },
  {
   "cell_type": "code",
   "execution_count": null,
   "metadata": {},
   "outputs": [],
   "source": [
    "23 > 10"
   ]
  },
  {
   "cell_type": "code",
   "execution_count": null,
   "metadata": {},
   "outputs": [],
   "source": [
    "10 < 2"
   ]
  },
  {
   "cell_type": "code",
   "execution_count": null,
   "metadata": {},
   "outputs": [],
   "source": [
    "-10 >= -10"
   ]
  },
  {
   "cell_type": "code",
   "execution_count": null,
   "metadata": {},
   "outputs": [],
   "source": [
    "-10 >= 0"
   ]
  },
  {
   "cell_type": "code",
   "execution_count": null,
   "metadata": {},
   "outputs": [],
   "source": [
    "True == False "
   ]
  },
  {
   "cell_type": "markdown",
   "metadata": {},
   "source": [
    "# Operadores Lógicos\n",
    "\n",
    "|Operador | Descripción|\n",
    "|---------|------------|\n",
    "| and      | Si las dos condiciones son Verdaderas, la condición se vuelve Verdadera|\n",
    "| or      | Si alguna de las condiciones es Verdadera, la condición es Verdadera |  \n",
    "| not      | Invierte el operardor logico|"
   ]
  },
  {
   "cell_type": "code",
   "execution_count": null,
   "metadata": {},
   "outputs": [],
   "source": [
    "20 < 40 and 1==1"
   ]
  },
  {
   "cell_type": "code",
   "execution_count": null,
   "metadata": {},
   "outputs": [],
   "source": [
    "2 == 2 or 1 != 1"
   ]
  },
  {
   "cell_type": "code",
   "execution_count": null,
   "metadata": {},
   "outputs": [],
   "source": [
    "not(True and True)"
   ]
  },
  {
   "cell_type": "markdown",
   "metadata": {},
   "source": [
    "# Operadores de pertenencia\n",
    "\n",
    "|Operador | Descripción|\n",
    "|---------|------------|\n",
    "| in      | Verdadero si encuentra la variable en una secuencia especifica|\n",
    "| not in      | Verdadero si no encuentra la variable en una secuencia especifica |  \n"
   ]
  },
  {
   "cell_type": "code",
   "execution_count": null,
   "metadata": {},
   "outputs": [],
   "source": [
    "'a' in 'abecedario'"
   ]
  },
  {
   "cell_type": "code",
   "execution_count": null,
   "metadata": {},
   "outputs": [],
   "source": [
    "8 in range(0,6)"
   ]
  },
  {
   "cell_type": "code",
   "execution_count": null,
   "metadata": {},
   "outputs": [],
   "source": [
    "'Z' not in 'zancudo'"
   ]
  },
  {
   "cell_type": "markdown",
   "metadata": {},
   "source": [
    "## Condicionales\n",
    "\n",
    "Los condicionales se usan para verificar condiciones y ejecutar bloques de código en caso de que esas condiciones se cumplan. Si la condición (if) se ejecuta el bloque de código adjunto, si la condición no se cumple (else) se ejecuta otro bloque de código. Los bloques else pueden ser opcionales."
   ]
  },
  {
   "cell_type": "code",
   "execution_count": null,
   "metadata": {},
   "outputs": [],
   "source": [
    "# la variable ganancias representa las ganancias de empresa en el mes de enero\n",
    "ganancias_enero = 1000\n",
    "# el concional crea una pregunta en relacion a la variable definida: Son las ganancias mayores a 1500?\n",
    "# si es verdadero se ejecuta la orden siguiente\n",
    "# en caso de no ser cierto se pasa al bloque de else (de otra manera)\n",
    "if ganancias > 1500:\n",
    "    print('La empresa tuvo utilidades este mes')\n",
    "else :\n",
    "    print('La empresa tuvo perdidas este mes')\n"
   ]
  },
  {
   "cell_type": "code",
   "execution_count": null,
   "metadata": {},
   "outputs": [],
   "source": [
    "# es posible anadir mas de un caso mediante la palabra reservada elif (abreviacion de else if - (ademas si))\n",
    "if ganancias > 1500:\n",
    "    print('La empresa tuvo utilidades este mes')\n",
    "elif ganancias == 1000:\n",
    "    print('Las ganancias son iguales al mes anterior')\n",
    "else :\n",
    "    print('La empresa tuvo perdidas este mes')"
   ]
  },
  {
   "cell_type": "code",
   "execution_count": null,
   "metadata": {},
   "outputs": [],
   "source": [
    "# es posible verificar mas de una condicion en cada uno de los bloques\n",
    "# es posible poner todos lo bloques de condicionales que desee\n",
    "if ganancias > 1500:\n",
    "    print('La empresa tuvo utilidades este mes')\n",
    "else ganancias == 1000 and ganancias < 1500:\n",
    "    print('Las ganancias son iguales al mes anterior')\n",
    "    print('La empresa tuvo perdidas este mes')\n"
   ]
  },
  {
   "cell_type": "code",
   "execution_count": null,
   "metadata": {},
   "outputs": [],
   "source": [
    "# en este caso la condicion siempre es verdadera por lo cual el codigo print siempre se ejecuta\n",
    "if True:\n",
    "    print('La condicion es verdadera')"
   ]
  },
  {
   "cell_type": "markdown",
   "metadata": {},
   "source": [
    "Los espacios son importantes dentro de Python ya que denotan las dependencias de líneas de código. Esto se conoce como identation (sangría). Si una línea depende de la anterior se debe denotar con 4 espacios individuales o con un espacio de la tecla tab"
   ]
  },
  {
   "cell_type": "markdown",
   "metadata": {},
   "source": [
    "## Bucles\n",
    "Se trata de estructuras de control que nos permiter repetir bloques de codigo."
   ]
  },
  {
   "cell_type": "markdown",
   "metadata": {},
   "source": [
    "## While\n",
    "Permite ejecutar repetidamente un bloque de codigo mientras que la condicion adjunta sea cierta."
   ]
  },
  {
   "cell_type": "code",
   "execution_count": null,
   "metadata": {
    "tags": []
   },
   "outputs": [],
   "source": [
    "\n",
    "contador = 10\n",
    "\n",
    "while contador != 0: \n",
    "    print('Estoy dentro de un bucle y el contador tiene valor de', contador)\n",
    "    # el contador se actualiza con el valor actual menos 1 \n",
    "    contador = contador - 1\n",
    "    # cada vez que termina el bucle se vuelve a verificar la condicion y se ejecuta el bloque de codigo interno\n"
   ]
  },
  {
   "cell_type": "markdown",
   "metadata": {},
   "source": [
    "## for\n",
    "Ejecuta un bloque de codigo en un rango o secuencia de valores."
   ]
  },
  {
   "cell_type": "code",
   "execution_count": null,
   "metadata": {},
   "outputs": [],
   "source": [
    "# la funcion range define un rango de valores entre 0 y 9\n",
    "for i in range(0,10):\n",
    "    # la variable i es una variable vacia. solo representa el valor de cada uno de los numeros en el rango\n",
    "    print('El valor de i es:', i)"
   ]
  },
  {
   "cell_type": "code",
   "execution_count": null,
   "metadata": {},
   "outputs": [],
   "source": [
    "# generemos una lista con numeros y un string\n",
    "lista = [1,2,3,4,'daniel']\n",
    "\n",
    "# para cada elemento de la lista se ejecuta el codigo interno\n",
    "for elemento in lista:\n",
    "    # se verifica el tipo de variable y si es o no string\n",
    "    if type(elemento) == 'str':\n",
    "        print('Encontramos un nombre:', elemento)\n",
    "    else:\n",
    "        print('Encontramos un numero:', elemento)"
   ]
  },
  {
   "cell_type": "code",
   "execution_count": null,
   "metadata": {},
   "outputs": [],
   "source": [
    "# la palabra reservada break termina el bucle sin completar la lista\n",
    "nombres = ['pepe', 'camilo', 'andres', 'pepe']\n",
    "\n",
    "for nombre in nombres:\n",
    "    if nombre == 'pepe':\n",
    "        print('encontramos a pepe')\n",
    "        break"
   ]
  },
  {
   "cell_type": "markdown",
   "metadata": {},
   "source": [
    "## Funciones\n",
    "Las funciones son bloques de codigo reusables y constituyen uno de los pilares fundamentales de la programacion. Al ser reusables permiten hacer generalizaciones sobre problemas especificos."
   ]
  },
  {
   "cell_type": "code",
   "execution_count": null,
   "metadata": {},
   "outputs": [],
   "source": [
    "# se define la funcion con la palabra reservada def\n",
    "# seguido del nombre y los paramentros entre ()\n",
    "# en este caso no hay parametros por lo que el parentesis se encuentra vacio\n",
    "def hola_mundo():\n",
    "    return 'Hola mundo'"
   ]
  },
  {
   "cell_type": "code",
   "execution_count": null,
   "metadata": {},
   "outputs": [],
   "source": [
    "# llamando la funcion\n",
    "hola_mundo()"
   ]
  },
  {
   "cell_type": "code",
   "execution_count": null,
   "metadata": {},
   "outputs": [],
   "source": [
    "# funcion para saludar cuyo paramentro es el nombre\n",
    "def hola(nombre):\n",
    "    print('Hola', nombre, 'y que viva el paro nacional')"
   ]
  },
  {
   "cell_type": "code",
   "execution_count": null,
   "metadata": {},
   "outputs": [],
   "source": [
    "# defino una varible con mi nombre\n",
    "mi_nombre = 'daniel'"
   ]
  },
  {
   "cell_type": "code",
   "execution_count": null,
   "metadata": {},
   "outputs": [],
   "source": [
    "hola(mi_nombre)"
   ]
  },
  {
   "cell_type": "code",
   "execution_count": null,
   "metadata": {},
   "outputs": [],
   "source": [
    "# funcion que imprime el valor maximo dado dos numeros\n",
    "# los parametros en este caso son a y b\n",
    "def maximo(a, b):\n",
    "    if a > b:\n",
    "        print(a, 'es el valor maximo')\n",
    "    elif a == b:\n",
    "        print(a, 'es igual a', b)\n",
    "    else:\n",
    "        print(b, 'es el valor maximo')"
   ]
  },
  {
   "cell_type": "code",
   "execution_count": null,
   "metadata": {},
   "outputs": [],
   "source": [
    "maximo(1, 2)"
   ]
  },
  {
   "cell_type": "code",
   "execution_count": null,
   "metadata": {},
   "outputs": [],
   "source": [
    "maximo(100, 99)"
   ]
  },
  {
   "cell_type": "code",
   "execution_count": null,
   "metadata": {},
   "outputs": [],
   "source": [
    "# es posible pasar paramentros por defecto a las funciones de manera que el parametro siempre sera el mismo\n",
    "# a menos que se cambie de manera explicita cuando se llama la funcion\n",
    "def hola(nombre='daniel'):\n",
    "    print('Hola', nombre)"
   ]
  },
  {
   "cell_type": "code",
   "execution_count": null,
   "metadata": {},
   "outputs": [],
   "source": [
    "# se llama la funcion sin parametros\n",
    "# la funcion toma el parametro por defecto que fue definido\n",
    "hola()"
   ]
  },
  {
   "cell_type": "code",
   "execution_count": null,
   "metadata": {},
   "outputs": [],
   "source": [
    "# cuando se cambia el parametro de manera explicita, la funcion cambia\n",
    "hola('Luisa')"
   ]
  },
  {
   "cell_type": "code",
   "execution_count": null,
   "metadata": {},
   "outputs": [],
   "source": [
    "mi_lista = [10,2,-3,56,-1354,123]\n",
    "negativos = []\n",
    "positivos = []\n",
    "def clasificador(lista):\n",
    "    for elemento in lista:\n",
    "        if elemento < 0:\n",
    "            negativos.append(elemento)\n",
    "        else:\n",
    "            positivos.append(elemento)"
   ]
  },
  {
   "cell_type": "code",
   "execution_count": null,
   "metadata": {},
   "outputs": [],
   "source": [
    "clasificador(mi_lista)"
   ]
  },
  {
   "cell_type": "code",
   "execution_count": null,
   "metadata": {},
   "outputs": [],
   "source": [
    "negativos"
   ]
  },
  {
   "cell_type": "code",
   "execution_count": null,
   "metadata": {},
   "outputs": [],
   "source": [
    "positivos"
   ]
  },
  {
   "cell_type": "markdown",
   "metadata": {},
   "source": [
    "## Librerías o módulos en Python\n",
    "Los módulos o librerías en Python, son una colección de clases, funciones y variables destinados a la solución de problemas específicos. En principio todo archivo con extensión .py puede ser un módulo, lo que implica que es posible construir nuestros propios módulos o librerías sin mayor complicación. \n",
    "\n",
    "Algunos de los módulos o librerías de Python mas usados en el área de ciencias de datos son:\n",
    "\n",
    "* numpy: librería optimizada para la manipulación de listas (arreglos) en múltiples dimensiones.\n",
    "* Pandas: análisis y manipulación de datos. (csv, excel, sql, json, stata y otros formatos).\n",
    "* matplotlib: generación de gráficos estáticos, dinámicos e interactivos.\n",
    "* seaborn: librería de visualización de datos estadísticos. Creada a partir de matplotlib.\n",
    "* scipy: librerías de computación científica (modelos de integración, ecuaciones diferenciales, entre otras).\n",
    "* statsmodels: librería de modelos y pruebas estadísticas estadísticos.\n",
    "* scikit-learn: librería con implementación de modelos de aprendizaje automático.\n",
    "* keras: librerías para el desarrollo de modelos aprendizaje profundo (Deep Learning).\n",
    "* TensorFlow: Plataforma para el desarrollo de modelos de redes neuronales desarrollado por Google."
   ]
  },
  {
   "cell_type": "code",
   "execution_count": null,
   "metadata": {},
   "outputs": [],
   "source": [
    "# importar una libreria\n",
    "import pandas"
   ]
  },
  {
   "cell_type": "code",
   "execution_count": null,
   "metadata": {},
   "outputs": [],
   "source": [
    "# luego de que se importa la libreria, se llama mediante su nombre seguido de punto y el nombre de la funcion\n",
    "# a la que queramos acceder\n",
    "pandas.read_csv()"
   ]
  },
  {
   "cell_type": "code",
   "execution_count": null,
   "metadata": {},
   "outputs": [],
   "source": [
    "# se pueden importar librerias usando alias (nombres mas cortos)\n",
    "import pandas as pd"
   ]
  },
  {
   "cell_type": "code",
   "execution_count": null,
   "metadata": {},
   "outputs": [],
   "source": [
    "# luego de que se importa se llama mediante su alias seguido de punto y el nombre de la funcion\n",
    "pd.read_csv()"
   ]
  },
  {
   "cell_type": "code",
   "execution_count": null,
   "metadata": {},
   "outputs": [],
   "source": [
    "# es posible importar funciones especificas de las librerias\n",
    "from pandas import read_excel"
   ]
  },
  {
   "cell_type": "code",
   "execution_count": null,
   "metadata": {},
   "outputs": [],
   "source": [
    "# una vez que la funcion se importo se puede llamar de manera directa \n",
    "# sin necesidad del nombre de la libreria o del alias\n",
    "read_excel()"
   ]
  },
  {
   "cell_type": "code",
   "execution_count": null,
   "metadata": {},
   "outputs": [],
   "source": [
    "# en caso de que se quieran importar todas las funciones de un modulo se usa *\n",
    "from pandas import *"
   ]
  },
  {
   "cell_type": "code",
   "execution_count": null,
   "metadata": {},
   "outputs": [],
   "source": [
    "# si las funciones se importan de esta manera no es necesesario llamar a la libreria por su nombre o alias\n",
    "read_sql_query()"
   ]
  },
  {
   "cell_type": "markdown",
   "metadata": {},
   "source": [
    "## Introducción a numpy\n",
    "\n",
    "Este es un modulo desarrollado para realizar operaciones con listas (arrays) de manera optimizada. Estos arrays pueden ser de 1,2,3...n dimensiones.\n",
    "\n",
    "Numpy es la base de muchos de los modulos desarrollados para ciencia de datos en python, gracias a su gran optimizacion, velocidad y versatilidad. Su principal"
   ]
  },
  {
   "cell_type": "code",
   "execution_count": null,
   "metadata": {},
   "outputs": [],
   "source": [
    "# importar la libreria\n",
    "import numpy as np"
   ]
  },
  {
   "cell_type": "code",
   "execution_count": null,
   "metadata": {},
   "outputs": [],
   "source": [
    "# arreglo de una dimension\n",
    "a = np.array([1,2,3,4])"
   ]
  },
  {
   "cell_type": "code",
   "execution_count": null,
   "metadata": {},
   "outputs": [],
   "source": [
    "# seleccionar el primer elemento\n",
    "a[0]"
   ]
  },
  {
   "cell_type": "code",
   "execution_count": null,
   "metadata": {},
   "outputs": [],
   "source": [
    "# arreglo de 3 diemensiones\n",
    "b = np.array([[1,2,3,4],[5,6,7,8],[9,10,11,12]])"
   ]
  },
  {
   "cell_type": "code",
   "execution_count": null,
   "metadata": {},
   "outputs": [],
   "source": [
    "#primer elemento una lista multidimensional\n",
    "b[0]"
   ]
  },
  {
   "cell_type": "code",
   "execution_count": null,
   "metadata": {},
   "outputs": [],
   "source": [
    "# constante nan de numpy\n",
    "np.nan"
   ]
  },
  {
   "cell_type": "code",
   "execution_count": null,
   "metadata": {},
   "outputs": [],
   "source": [
    "# array de caracteres\n",
    "names = np.array(['pedro', 'maria', 'ximena'])"
   ]
  },
  {
   "cell_type": "code",
   "execution_count": null,
   "metadata": {},
   "outputs": [],
   "source": [
    "# operaciones aritmeticas con arrays\n",
    "np.divide(a,b)"
   ]
  },
  {
   "cell_type": "code",
   "execution_count": null,
   "metadata": {},
   "outputs": [],
   "source": [
    "# operaciones geometricas\n",
    "np.cos(a)"
   ]
  },
  {
   "cell_type": "code",
   "execution_count": null,
   "metadata": {},
   "outputs": [],
   "source": [
    "# matriz de ceros\n",
    "np.zeros((2,3))"
   ]
  },
  {
   "cell_type": "code",
   "execution_count": null,
   "metadata": {},
   "outputs": [],
   "source": [
    "# matriz identidad\n",
    "np.identity(5)"
   ]
  },
  {
   "cell_type": "code",
   "execution_count": null,
   "metadata": {},
   "outputs": [],
   "source": [
    "# operaciones vectoriales\n",
    "b=np.array([9,8,7,6])\n",
    "np.dot(a,b)"
   ]
  }
 ],
 "metadata": {
  "kernelspec": {
   "display_name": "Python 3",
   "language": "python",
   "name": "python3"
  },
  "language_info": {
   "codemirror_mode": {
    "name": "ipython",
    "version": 3
   },
   "file_extension": ".py",
   "mimetype": "text/x-python",
   "name": "python",
   "nbconvert_exporter": "python",
   "pygments_lexer": "ipython3",
   "version": "3.9.5"
  }
 },
 "nbformat": 4,
 "nbformat_minor": 2
}