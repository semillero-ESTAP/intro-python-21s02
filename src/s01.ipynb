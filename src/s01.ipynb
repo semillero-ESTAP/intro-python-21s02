{
 "metadata": {
  "language_info": {
   "codemirror_mode": {
    "name": "ipython",
    "version": 3
   },
   "file_extension": ".py",
   "mimetype": "text/x-python",
   "name": "python",
   "nbconvert_exporter": "python",
   "pygments_lexer": "ipython3",
   "version": "3.9.5"
  },
  "orig_nbformat": 2,
  "kernelspec": {
   "name": "python395jvsc74a57bd014a3bf2470aaf43a82c000922f7fd400f244119225606e1c8ee34384e5968cd2",
   "display_name": "Python 3.9.5 64-bit"
  }
 },
 "nbformat": 4,
 "nbformat_minor": 2,
 "cells": [
  {
   "source": [
    "# Sesión 1\n",
    "\n",
    "Orden:\n",
    "* Presentacion y esquema del curso\n",
    "* hablar sobre Python\n",
    "* instalacion de python\n",
    "* Como se trabaja en python: formato de archivos y editores\n",
    "\n",
    "## Python \n",
    "\n",
    "Python es un lenguaje de programación interpretado, diseñado específicamente para que su sintaxis de programación sea de fácil lectura. Una de sus primeras implementaciones data de febrero de 1991 de la mano de Guido Van Rossum cabeza del proyecto y dictador benevolente vitalicio del lenguaje.\n",
    "\n",
    "### Usos:\n",
    "\n",
    "Actualmente Python es uno de los lenguajes de programación más populares existentes, dentro de sus aplicaciones se encuentran, sin ser exclusivas, las siguientes:\n",
    "\n",
    "* Desarrollo web (backend)\n",
    "* Desarrollo de videojuegos\n",
    "* Aprendizaje automático y aprendizaje profundo\n",
    "* Ciencia de datos y visualización de datos\n",
    "* Aplicaciones de PC y celular \n",
    "* IoT (Internet de las cosas)"
   ],
   "cell_type": "markdown",
   "metadata": {}
  },
  {
   "source": [
    "# Tipos de datos\n",
    "\n",
    "## Números enteros (int)\n",
    "```python\n",
    "20\n",
    "-10\n",
    "0\n",
    "+100\n",
    "-1\n",
    "```\n",
    "\n",
    "## Números decimales (float)\n",
    "```python\n",
    "3.14\n",
    "-1.12\n",
    "1.05e-05\n",
    "0.000234112355\n",
    "```\n",
    "## Cadenas de texto (strings)\n",
    "```python\n",
    "'python'\n",
    "'7 es un número primo'\n",
    "'Mi nombre es Fulanito de Tal'\n",
    "```\n",
    "\n",
    "## Lógicos (booleanos)\n",
    "```python\n",
    "True\n",
    "False\n",
    "True + False\n",
    "```"
   ],
   "cell_type": "markdown",
   "metadata": {}
  },
  {
   "source": [
    "# Operadores aritméticos"
   ],
   "cell_type": "markdown",
   "metadata": {}
  },
  {
   "cell_type": "code",
   "execution_count": 1,
   "metadata": {},
   "outputs": [
    {
     "output_type": "execute_result",
     "data": {
      "text/plain": [
       "11"
      ]
     },
     "metadata": {},
     "execution_count": 1
    }
   ],
   "source": [
    "# suma\n",
    "1+10"
   ]
  },
  {
   "cell_type": "code",
   "execution_count": 2,
   "metadata": {},
   "outputs": [
    {
     "output_type": "execute_result",
     "data": {
      "text/plain": [
       "-66"
      ]
     },
     "metadata": {},
     "execution_count": 2
    }
   ],
   "source": [
    "# resta \n",
    "20-86"
   ]
  },
  {
   "cell_type": "code",
   "execution_count": 3,
   "metadata": {},
   "outputs": [
    {
     "output_type": "execute_result",
     "data": {
      "text/plain": [
       "600"
      ]
     },
     "metadata": {},
     "execution_count": 3
    }
   ],
   "source": [
    "# multiplicación\n",
    "15*40"
   ]
  },
  {
   "cell_type": "code",
   "execution_count": 4,
   "metadata": {},
   "outputs": [
    {
     "output_type": "execute_result",
     "data": {
      "text/plain": [
       "8"
      ]
     },
     "metadata": {},
     "execution_count": 4
    }
   ],
   "source": [
    "# exponenciación\n",
    "2**3"
   ]
  },
  {
   "cell_type": "code",
   "execution_count": 5,
   "metadata": {},
   "outputs": [
    {
     "output_type": "execute_result",
     "data": {
      "text/plain": [
       "6.666666666666667"
      ]
     },
     "metadata": {},
     "execution_count": 5
    }
   ],
   "source": [
    "# división\n",
    "20/3"
   ]
  },
  {
   "cell_type": "code",
   "execution_count": 6,
   "metadata": {},
   "outputs": [
    {
     "output_type": "execute_result",
     "data": {
      "text/plain": [
       "6"
      ]
     },
     "metadata": {},
     "execution_count": 6
    }
   ],
   "source": [
    "# división entera \n",
    "20//3"
   ]
  },
  {
   "cell_type": "code",
   "execution_count": 7,
   "metadata": {},
   "outputs": [
    {
     "output_type": "execute_result",
     "data": {
      "text/plain": [
       "2"
      ]
     },
     "metadata": {},
     "execution_count": 7
    }
   ],
   "source": [
    "# modulo\n",
    "20 % 3"
   ]
  },
  {
   "source": [
    "## Algunas operaciones con cadenas de texto\n",
    "\n",
    "Las cadenas de texto se definen mediante comillas sencillas '' o comillas dobles \"\". No importa que clase de comillas se usen siempre y cuando no se mezclen."
   ],
   "cell_type": "markdown",
   "metadata": {}
  },
  {
   "cell_type": "code",
   "execution_count": 8,
   "metadata": {},
   "outputs": [],
   "source": [
    "# definicion de variable\n",
    "nombre = 'Pancracio'"
   ]
  },
  {
   "cell_type": "code",
   "execution_count": 9,
   "metadata": {},
   "outputs": [
    {
     "output_type": "execute_result",
     "data": {
      "text/plain": [
       "'Pancracio'"
      ]
     },
     "metadata": {},
     "execution_count": 9
    }
   ],
   "source": [
    "nombre"
   ]
  },
  {
   "cell_type": "code",
   "execution_count": 10,
   "metadata": {},
   "outputs": [
    {
     "output_type": "execute_result",
     "data": {
      "text/plain": [
       "'PancracioPancracio'"
      ]
     },
     "metadata": {},
     "execution_count": 10
    }
   ],
   "source": [
    "nombre + nombre"
   ]
  },
  {
   "cell_type": "code",
   "execution_count": 11,
   "metadata": {},
   "outputs": [
    {
     "output_type": "execute_result",
     "data": {
      "text/plain": [
       "'PancracioPancracio'"
      ]
     },
     "metadata": {},
     "execution_count": 11
    }
   ],
   "source": [
    "nombre*2"
   ]
  },
  {
   "cell_type": "code",
   "execution_count": 12,
   "metadata": {},
   "outputs": [],
   "source": [
    "guion = '-'"
   ]
  },
  {
   "cell_type": "code",
   "execution_count": 13,
   "metadata": {},
   "outputs": [
    {
     "output_type": "execute_result",
     "data": {
      "text/plain": [
       "'--------------------------------------------------'"
      ]
     },
     "metadata": {},
     "execution_count": 13
    }
   ],
   "source": [
    "guion*50"
   ]
  },
  {
   "cell_type": "code",
   "execution_count": 14,
   "metadata": {},
   "outputs": [],
   "source": [
    "nombre = 'Pancracio'\n",
    "apellido = 'Toledo'\n",
    "edad = 157"
   ]
  },
  {
   "cell_type": "code",
   "execution_count": 15,
   "metadata": {},
   "outputs": [
    {
     "output_type": "stream",
     "name": "stdout",
     "text": [
      "Mi nombre es Pancracio, mi apellido es Toledo y mi edad es 157 años :D\n"
     ]
    }
   ],
   "source": [
    "# placeholders {} que se encadenan con variables definidas dentro de un cadena de texto\n",
    "print('Mi nombre es {}, mi apellido es {} y mi edad es {} años :D'.format(nombre, apellido, edad))"
   ]
  },
  {
   "cell_type": "code",
   "execution_count": 16,
   "metadata": {},
   "outputs": [
    {
     "output_type": "execute_result",
     "data": {
      "text/plain": [
       "'PANCRACIO'"
      ]
     },
     "metadata": {},
     "execution_count": 16
    }
   ],
   "source": [
    "nombre.upper()"
   ]
  },
  {
   "cell_type": "code",
   "execution_count": 17,
   "metadata": {},
   "outputs": [
    {
     "output_type": "execute_result",
     "data": {
      "text/plain": [
       "'pancracio'"
      ]
     },
     "metadata": {},
     "execution_count": 17
    }
   ],
   "source": [
    "nombre.lower()"
   ]
  },
  {
   "cell_type": "code",
   "execution_count": 18,
   "metadata": {},
   "outputs": [
    {
     "output_type": "execute_result",
     "data": {
      "text/plain": [
       "9"
      ]
     },
     "metadata": {},
     "execution_count": 18
    }
   ],
   "source": [
    "len(nombre)"
   ]
  },
  {
   "source": [
    "## Conversion de tipos de variables (casteo de variables)"
   ],
   "cell_type": "markdown",
   "metadata": {}
  },
  {
   "cell_type": "code",
   "execution_count": 19,
   "metadata": {},
   "outputs": [],
   "source": [
    "numero_decimal = 3.14"
   ]
  },
  {
   "cell_type": "code",
   "execution_count": 20,
   "metadata": {},
   "outputs": [
    {
     "output_type": "execute_result",
     "data": {
      "text/plain": [
       "float"
      ]
     },
     "metadata": {},
     "execution_count": 20
    }
   ],
   "source": [
    "type(numero_decimal)"
   ]
  },
  {
   "cell_type": "code",
   "execution_count": 21,
   "metadata": {},
   "outputs": [
    {
     "output_type": "execute_result",
     "data": {
      "text/plain": [
       "3"
      ]
     },
     "metadata": {},
     "execution_count": 21
    }
   ],
   "source": [
    "int(numero_decimal)"
   ]
  },
  {
   "cell_type": "code",
   "execution_count": 22,
   "metadata": {},
   "outputs": [
    {
     "output_type": "execute_result",
     "data": {
      "text/plain": [
       "'3.14'"
      ]
     },
     "metadata": {},
     "execution_count": 22
    }
   ],
   "source": [
    "str(numero_decimal)"
   ]
  },
  {
   "cell_type": "code",
   "execution_count": 23,
   "metadata": {},
   "outputs": [],
   "source": [
    "palabra = 'corredor'"
   ]
  },
  {
   "cell_type": "code",
   "execution_count": 24,
   "metadata": {},
   "outputs": [
    {
     "output_type": "execute_result",
     "data": {
      "text/plain": [
       "str"
      ]
     },
     "metadata": {},
     "execution_count": 24
    }
   ],
   "source": [
    "type(palabra)"
   ]
  },
  {
   "cell_type": "code",
   "execution_count": 25,
   "metadata": {},
   "outputs": [
    {
     "output_type": "error",
     "ename": "ValueError",
     "evalue": "invalid literal for int() with base 10: 'corredor'",
     "traceback": [
      "\u001b[1;31m---------------------------------------------------------------------------\u001b[0m",
      "\u001b[1;31mValueError\u001b[0m                                Traceback (most recent call last)",
      "\u001b[1;32m<ipython-input-25-67bfc1c09e23>\u001b[0m in \u001b[0;36m<module>\u001b[1;34m\u001b[0m\n\u001b[1;32m----> 1\u001b[1;33m \u001b[0mint\u001b[0m\u001b[1;33m(\u001b[0m\u001b[0mpalabra\u001b[0m\u001b[1;33m)\u001b[0m\u001b[1;33m\u001b[0m\u001b[1;33m\u001b[0m\u001b[0m\n\u001b[0m",
      "\u001b[1;31mValueError\u001b[0m: invalid literal for int() with base 10: 'corredor'"
     ]
    }
   ],
   "source": [
    "int(palabra)"
   ]
  },
  {
   "cell_type": "code",
   "execution_count": null,
   "metadata": {},
   "outputs": [],
   "source": [
    "float(palabra)"
   ]
  },
  {
   "cell_type": "code",
   "execution_count": null,
   "metadata": {},
   "outputs": [],
   "source": [
    "numero_str = '1'"
   ]
  },
  {
   "cell_type": "code",
   "execution_count": null,
   "metadata": {},
   "outputs": [],
   "source": [
    "int(numero_str)"
   ]
  },
  {
   "cell_type": "code",
   "execution_count": null,
   "metadata": {},
   "outputs": [],
   "source": [
    "float(numero_str)"
   ]
  },
  {
   "source": [
    "# Operadores de comparación"
   ],
   "cell_type": "markdown",
   "metadata": {}
  },
  {
   "cell_type": "code",
   "execution_count": null,
   "metadata": {},
   "outputs": [],
   "source": [
    "1 == 1"
   ]
  },
  {
   "cell_type": "code",
   "execution_count": null,
   "metadata": {},
   "outputs": [],
   "source": [
    "1 != 1"
   ]
  },
  {
   "cell_type": "code",
   "execution_count": null,
   "metadata": {},
   "outputs": [],
   "source": [
    "1 > 3 "
   ]
  },
  {
   "cell_type": "code",
   "execution_count": null,
   "metadata": {},
   "outputs": [],
   "source": [
    "1 < 4"
   ]
  },
  {
   "cell_type": "code",
   "execution_count": null,
   "metadata": {},
   "outputs": [],
   "source": [
    "1 >= 1"
   ]
  },
  {
   "cell_type": "code",
   "execution_count": null,
   "metadata": {},
   "outputs": [],
   "source": [
    "1<=2"
   ]
  },
  {
   "source": [
    "# Estructuras de datos en Python\n",
    "Las estructuras de datos nos permiten almacenar, organizar y manipular datos dentro Python. Algunas de las estructuras de datos más usadas son: \n",
    "* Listas\n",
    "* Diccionarios\n",
    "* Tuplas\n",
    "* Conjuntos"
   ],
   "cell_type": "markdown",
   "metadata": {}
  },
  {
   "source": [
    "### Listas\n",
    "Usadas guardar datos de distintos tipos de una manera secuencial en una sola variable. Cada elemento de la lista se indexa de manera numérica, partiendo del 0 hasta n-1, siendo n el número de elementos dentro de la lista. también se usan índices negativos para indexar elementos partiendo desde el ultimo."
   ],
   "cell_type": "markdown",
   "metadata": {}
  },
  {
   "cell_type": "code",
   "execution_count": null,
   "metadata": {},
   "outputs": [],
   "source": [
    "# definicion de una lista\n",
    "mi_lista = [1,2,3,4,'Pancracio', True]"
   ]
  },
  {
   "cell_type": "code",
   "execution_count": null,
   "metadata": {},
   "outputs": [],
   "source": [
    "# primer elemento de la lista\n",
    "mi_lista[0]"
   ]
  },
  {
   "cell_type": "code",
   "execution_count": null,
   "metadata": {},
   "outputs": [],
   "source": [
    "# penultimo elemento de la lista\n",
    "mi_lista[4]"
   ]
  },
  {
   "cell_type": "code",
   "execution_count": null,
   "metadata": {},
   "outputs": [],
   "source": [
    "# ultimo elemento de la lista\n",
    "mi_lista[-1]"
   ]
  },
  {
   "cell_type": "code",
   "execution_count": null,
   "metadata": {},
   "outputs": [],
   "source": [
    "# imprimir lista en pantalla\n",
    "print(mi_lista)"
   ]
  },
  {
   "source": [
    "### Algunos metodos de las listas\n",
    "* append() : Añade un elemento al final de la lista.\n",
    "* clear() : Remueve todos los elementos de la lista.\n",
    "* count() : Cuenta el numero de elementos iguales en una lista.\n",
    "* pop() : Remueve un elemento de la lista en un posicion especifica.\n",
    "* sort() : Ordena una lista."
   ],
   "cell_type": "markdown",
   "metadata": {}
  },
  {
   "cell_type": "code",
   "execution_count": null,
   "metadata": {},
   "outputs": [],
   "source": [
    "mi_lista.append(400)"
   ]
  },
  {
   "cell_type": "code",
   "execution_count": null,
   "metadata": {},
   "outputs": [],
   "source": [
    "mi_lista"
   ]
  },
  {
   "cell_type": "code",
   "execution_count": null,
   "metadata": {},
   "outputs": [],
   "source": [
    "mi_lista.clear()"
   ]
  },
  {
   "source": [
    "mi_lista"
   ],
   "cell_type": "code",
   "metadata": {},
   "execution_count": null,
   "outputs": []
  },
  {
   "cell_type": "code",
   "execution_count": null,
   "metadata": {},
   "outputs": [],
   "source": [
    "mi_lista.count(400)"
   ]
  },
  {
   "cell_type": "code",
   "execution_count": null,
   "metadata": {},
   "outputs": [],
   "source": [
    "mi_lista.pop(-1)"
   ]
  },
  {
   "cell_type": "code",
   "execution_count": null,
   "metadata": {},
   "outputs": [],
   "source": [
    "mi_lista"
   ]
  },
  {
   "cell_type": "code",
   "execution_count": null,
   "metadata": {},
   "outputs": [],
   "source": [
    "lista_texto = ['Ford', 'BMW', 'Audi']\n",
    "lista_texto.sort()"
   ]
  },
  {
   "cell_type": "code",
   "execution_count": null,
   "metadata": {},
   "outputs": [],
   "source": [
    "lista_texto"
   ]
  },
  {
   "cell_type": "code",
   "execution_count": null,
   "metadata": {},
   "outputs": [],
   "source": [
    "lista_numerica = [2,10,20,-1,0,4]\n",
    "lista_numerica.sort()"
   ]
  },
  {
   "cell_type": "code",
   "execution_count": null,
   "metadata": {},
   "outputs": [],
   "source": [
    "lista_numerica"
   ]
  },
  {
   "cell_type": "code",
   "execution_count": 1,
   "metadata": {},
   "outputs": [
    {
     "output_type": "error",
     "ename": "SyntaxError",
     "evalue": "illegal target for annotation (<ipython-input-1-7e5c03c779df>, line 1)",
     "traceback": [
      "\u001b[1;36m  File \u001b[1;32m\"<ipython-input-1-7e5c03c779df>\"\u001b[1;36m, line \u001b[1;32m1\u001b[0m\n\u001b[1;33m    1:5\u001b[0m\n\u001b[1;37m    ^\u001b[0m\n\u001b[1;31mSyntaxError\u001b[0m\u001b[1;31m:\u001b[0m illegal target for annotation\n"
     ]
    }
   ],
   "source": []
  },
  {
   "source": [
    "### Diccionarios\n",
    "Este tipo de estruturas de datos se usa para guardar datos de tipo llave:valor (palabra:definicion)."
   ],
   "cell_type": "markdown",
   "metadata": {}
  },
  {
   "cell_type": "code",
   "execution_count": null,
   "metadata": {},
   "outputs": [],
   "source": [
    "# definicion\n",
    "mi_carro = {'marca':'renault', 'modelo':'sandero', 'año':2015}"
   ]
  },
  {
   "cell_type": "code",
   "execution_count": null,
   "metadata": {},
   "outputs": [],
   "source": [
    "# imprimir el contenido del diccionario\n",
    "print(mi_carro)"
   ]
  },
  {
   "cell_type": "code",
   "execution_count": null,
   "metadata": {},
   "outputs": [],
   "source": [
    "# no se permiten valores duplicados, si existen el valor de la llave se sobreescribe\n",
    "mi_carro = {'marca':'renault', 'modelo':'sandero', 'año':2015, 'año':2020}"
   ]
  },
  {
   "cell_type": "code",
   "execution_count": null,
   "metadata": {},
   "outputs": [],
   "source": [
    "# tan solo se muestra el ultimo valor de la llave año\n",
    "mi_carro"
   ]
  },
  {
   "cell_type": "code",
   "execution_count": null,
   "metadata": {},
   "outputs": [],
   "source": [
    "# algunas funciones estandar de python, como len permiten determinar la longitud de una estructura\n",
    "len(mi_carro)"
   ]
  },
  {
   "cell_type": "code",
   "execution_count": null,
   "metadata": {},
   "outputs": [],
   "source": [
    "# una llave puede tener multiples valores\n",
    "mi_carro = {'marca':'renault', 'modelo':'sandero', 'año':2015, 'color':{'negro', 'rojo'}}"
   ]
  },
  {
   "cell_type": "code",
   "execution_count": null,
   "metadata": {},
   "outputs": [],
   "source": [
    "# es posible consultar los valores de una llave, llamando al diccionario y a la llave correspondiente\n",
    "mi_carro['modelo']"
   ]
  },
  {
   "source": [
    "### Algunos metodos de los diccionarios\n",
    "* keys() : Muestra las llaves del diccionario.\n",
    "* values() : Muestra los valores asociados a las llaves del diccionario.\n",
    "* get() : Retorna el valor de  una llave especifica.\n",
    "* update() : actualiza el diccionario modificando valores existentes o añaniendo nuevos.\n",
    "* pop(): Remueve el elemento con una llave especifica."
   ],
   "cell_type": "markdown",
   "metadata": {}
  },
  {
   "cell_type": "code",
   "execution_count": null,
   "metadata": {},
   "outputs": [],
   "source": [
    "mi_carro.keys()"
   ]
  },
  {
   "cell_type": "code",
   "execution_count": null,
   "metadata": {},
   "outputs": [],
   "source": [
    "mi_carro.values()"
   ]
  },
  {
   "cell_type": "code",
   "execution_count": null,
   "metadata": {},
   "outputs": [],
   "source": [
    "mi_carro.get('marca')"
   ]
  },
  {
   "cell_type": "code",
   "execution_count": null,
   "metadata": {},
   "outputs": [],
   "source": [
    "mi_carro.update({'año':2020})"
   ]
  },
  {
   "cell_type": "code",
   "execution_count": null,
   "metadata": {},
   "outputs": [],
   "source": [
    "mi_carro"
   ]
  },
  {
   "cell_type": "code",
   "execution_count": null,
   "metadata": {},
   "outputs": [],
   "source": [
    "mi_carro.update({'puertas':5})"
   ]
  },
  {
   "cell_type": "code",
   "execution_count": null,
   "metadata": {},
   "outputs": [],
   "source": [
    "mi_carro"
   ]
  },
  {
   "source": [
    "### Tuplas\n",
    "    * Orden definido (no es posible cambiar su orden).\n",
    "    * Inmutables (no es posible modificar, añadir o eliminar items).\n",
    "    * Permiten valores duplicados"
   ],
   "cell_type": "markdown",
   "metadata": {}
  },
  {
   "cell_type": "code",
   "execution_count": null,
   "metadata": {},
   "outputs": [],
   "source": [
    "tupla =  ('manzana', 'banano', 'pera', 'pera')"
   ]
  },
  {
   "source": [
    "### Conjuntos\n",
    "    * No tienen un orden no definido.\n",
    "    * Inmutables (no es posible modificar, añadir o eliminar items).\n",
    "    * No permite valores duplicados.\n",
    "    * Algunos metodos de los diccionarios:"
   ],
   "cell_type": "markdown",
   "metadata": {}
  },
  {
   "cell_type": "code",
   "execution_count": null,
   "metadata": {},
   "outputs": [],
   "source": [
    "conjunto =  {'manzana', 'banano', 'pera', 'pera'}"
   ]
  }
 ]
}